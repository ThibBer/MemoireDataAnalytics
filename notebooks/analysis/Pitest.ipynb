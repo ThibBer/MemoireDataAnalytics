{
 "cells": [
  {
   "cell_type": "code",
   "id": "initial_id",
   "metadata": {
    "collapsed": true,
    "ExecuteTime": {
     "end_time": "2025-05-17T09:19:19.449598Z",
     "start_time": "2025-05-17T09:19:18.357975Z"
    }
   },
   "source": [
    "import pandas as pd\n",
    "import os\n",
    "import matplotlib.pyplot as plt\n",
    "from scipy import stats\n",
    "\n",
    "col = 'mutation_coverage'\n",
    "\n",
    "pitest_figures_out = '../../generated/figures/pitest'\n",
    "pitest_data_path = '../../generated/code-analysis/pitest.csv'\n",
    "\n",
    "if not os.path.exists(pitest_data_path):\n",
    "    raise FileNotFoundError(f\"Le fichier {pitest_data_path} n'existe pas. Exécutez d'abord le notebook '../arrange data/Pitest.ipynb' avant.\")\n",
    "\n",
    "df_pitest = pd.read_csv(pitest_data_path)"
   ],
   "outputs": [],
   "execution_count": 2
  },
  {
   "metadata": {},
   "cell_type": "markdown",
   "source": "# Effet d'ordre",
   "id": "ca9a36ae79e61a67"
  },
  {
   "metadata": {
    "ExecuteTime": {
     "end_time": "2025-05-17T13:32:47.139324Z",
     "start_time": "2025-05-17T13:32:47.125859Z"
    }
   },
   "cell_type": "code",
   "source": [
    "from statsmodels.stats.weightstats import ttost_ind\n",
    "\n",
    "pivot = df_pitest.pivot(index='user', columns='game_mode', values=col)\n",
    "pivot = pivot.dropna()\n",
    "\n",
    "groups = df_pitest.drop_duplicates('user')[['user', 'group']]\n",
    "pivot = pivot.merge(groups.set_index('user'), left_index=True, right_index=True)\n",
    "\n",
    "pivot['diff'] = pivot.apply(\n",
    "    lambda row: row['leaderboard'] - row['achievements'] if row['group'] == 'B'\n",
    "                else row['achievements'] - row['leaderboard'],\n",
    "    axis=1\n",
    ")\n",
    "\n",
    "group_a = pivot[pivot['group'] == 'A']['diff']\n",
    "group_b = pivot[pivot['group'] == 'B']['diff']\n",
    "\n",
    "assert len(group_a) == len(group_b), f\"Mismatch in sample size for {col}\"\n",
    "\n",
    "_, p_normal_diff_a = stats.shapiro(group_a)\n",
    "_, p_normal_diff_b = stats.shapiro(group_b)\n",
    "\n",
    "print(f\"Normalité du groupe A : {p_normal_diff_a >= 0.05} - {p_normal_diff_a}\")\n",
    "print(f\"Normalité du groupe B : {p_normal_diff_b >= 0.05} - {p_normal_diff_b}\")\n",
    "\n",
    "stat, variance_p_value = stats.levene(group_a, group_b)\n",
    "\n",
    "print(f\"Variance égales : {variance_p_value >= 0.05} - {variance_p_value}\")\n",
    "\n",
    "low_eq_bound = -0.1\n",
    "high_eq_bound = 0.1\n",
    "p_value, data1, data2 = ttost_ind(group_a, group_b, low_eq_bound, high_eq_bound, usevar='pooled')\n",
    "\n",
    "print(\"p-value :\", p_value)\n",
    "\n",
    "if p_value < 0.05:\n",
    "    print(\"H₁ (alternative) : la différence est dans les bornes d’équivalence\")\n",
    "else:\n",
    "    print(f\"H₀ (nulle) : la différence est hors de l’intervalle d’équivalence\")"
   ],
   "id": "86afe665b855a957",
   "outputs": [
    {
     "name": "stdout",
     "output_type": "stream",
     "text": [
      "Normalité du groupe A : True - 0.05421049256853437\n",
      "Normalité du groupe B : True - 0.6873357845103831\n",
      "Variance égales : True - 0.7753911851022658\n",
      "p-value : 0.037905736018044124\n",
      "H₁ (alternative) : la différence est dans les bornes d’équivalence\n"
     ]
    }
   ],
   "execution_count": 31
  },
  {
   "metadata": {},
   "cell_type": "markdown",
   "source": "# Boxplot",
   "id": "663b58cce3429cc2"
  },
  {
   "metadata": {
    "ExecuteTime": {
     "end_time": "2025-05-17T14:29:55.828169Z",
     "start_time": "2025-05-17T14:29:55.682827Z"
    }
   },
   "cell_type": "code",
   "source": [
    "if not os.path.exists(pitest_figures_out):\n",
    "    os.makedirs(pitest_figures_out)\n",
    "\n",
    "plt.figure(figsize=(10, 6))\n",
    "plt.boxplot([\n",
    "    df_pitest[(df_pitest['group'] == 'A')][col],\n",
    "    df_pitest[(df_pitest['group'] == 'B')][col]\n",
    "], tick_labels=['Groupe A', 'Groupe B'])\n",
    "\n",
    "plt.title('Score de mutation par groupe')\n",
    "plt.ylabel('Score de mutation')\n",
    "plt.grid(axis='y', linestyle='--', alpha=0.7)\n",
    "plt.savefig(f\"{pitest_figures_out}/mutation_score_by_game_mode.pdf\")\n",
    "plt.show()"
   ],
   "id": "485be9aeae5ace84",
   "outputs": [
    {
     "data": {
      "text/plain": [
       "<Figure size 1000x600 with 1 Axes>"
      ],
      "image/png": "[encoded data removed]"
     },
     "metadata": {},
     "output_type": "display_data"
    }
   ],
   "execution_count": 34
  },
  {
   "metadata": {},
   "cell_type": "markdown",
   "source": "# Effet de session",
   "id": "39f7f1c95a471510"
  },
  {
   "metadata": {
    "ExecuteTime": {
     "end_time": "2025-05-17T13:57:13.964104Z",
     "start_time": "2025-05-17T13:57:13.954767Z"
    }
   },
   "cell_type": "code",
   "source": [
    "from statsmodels.stats.weightstats import ttost_paired\n",
    "df_rounds = df_pitest.copy()\n",
    "\n",
    "session1 = df_rounds[df_rounds['session'] == 1][col].values\n",
    "session2 = df_rounds[df_rounds['session'] == 2][col].values\n",
    "\n",
    "assert len(session1) == len(session2), f\"Mismatch in sample size for {col}\"\n",
    "\n",
    "_, p_shapiro_1 = stats.shapiro(session1)\n",
    "_, p_shapiro_2 = stats.shapiro(session2)\n",
    "\n",
    "print(f\"Normalité du groupe A : {p_shapiro_1 >= 0.05} - {p_shapiro_1}\")\n",
    "print(f\"Normalité du groupe B : {p_shapiro_2 >= 0.05} - {p_shapiro_2}\")\n",
    "\n",
    "stat, variance_p_value = stats.levene(session1, session2)\n",
    "\n",
    "print(f\"Variance égales : {variance_p_value >= 0.05} - {variance_p_value}\")\n",
    "\n",
    "low_eq_bound = -0.1\n",
    "high_eq_bound = 0.1\n",
    "p_value, data1, data2 = ttost_paired(session1, session2, low_eq_bound, high_eq_bound)\n",
    "\n",
    "print(\"p-value :\", p_value)\n",
    "\n",
    "if p_value < 0.05:\n",
    "    print(\"H₁ (alternative) : la différence est dans les bornes d’équivalence\")\n",
    "else:\n",
    "    print(f\"H₀ (nulle) : la différence est hors de l’intervalle d’équivalence\")"
   ],
   "id": "81bc1341afd21963",
   "outputs": [
    {
     "name": "stdout",
     "output_type": "stream",
     "text": [
      "Normalité du groupe A : True - 0.0627960861526303\n",
      "Normalité du groupe B : True - 0.2213060649864379\n",
      "Variance égales : True - 0.8092351755741011\n",
      "p-value : 0.0001554227324971607\n",
      "H₁ (alternative) : la différence est dans les bornes d’équivalence\n"
     ]
    }
   ],
   "execution_count": 32
  },
  {
   "metadata": {},
   "cell_type": "markdown",
   "source": "# Boxplot par mode de jeu",
   "id": "902b3d70d47739e1"
  },
  {
   "metadata": {
    "ExecuteTime": {
     "end_time": "2025-05-17T09:39:02.273092Z",
     "start_time": "2025-05-17T09:39:02.130451Z"
    }
   },
   "cell_type": "code",
   "source": [
    "if not os.path.exists(pitest_figures_out):\n",
    "    os.makedirs(pitest_figures_out)\n",
    "\n",
    "plt.figure(figsize=(10, 6))\n",
    "plt.boxplot([\n",
    "    df_pitest[(df_pitest['game_mode'] == 'achievements')][col],\n",
    "    df_pitest[(df_pitest['game_mode'] == 'leaderboard')][col]\n",
    "], tick_labels=['Achievements', 'Leaderboard'])\n",
    "\n",
    "plt.title('Score de mutation par mode de jeu')\n",
    "plt.ylabel('Score de mutation')\n",
    "plt.grid(axis='y', linestyle='--', alpha=0.7)\n",
    "plt.savefig(f\"{pitest_figures_out}/mutation_score_by_game_mode.pdf\")\n",
    "plt.show()"
   ],
   "id": "563e43c094438773",
   "outputs": [
    {
     "data": {
      "text/plain": [
       "<Figure size 1000x600 with 1 Axes>"
      ],
      "image/png": "[encoded data removed]"
     },
     "metadata": {},
     "output_type": "display_data"
    }
   ],
   "execution_count": 17
  },
  {
   "metadata": {},
   "cell_type": "markdown",
   "source": "# Boxplot par session",
   "id": "2a0205895cc7230f"
  },
  {
   "metadata": {
    "ExecuteTime": {
     "end_time": "2025-05-17T09:22:40.323668Z",
     "start_time": "2025-05-17T09:22:40.181059Z"
    }
   },
   "cell_type": "code",
   "source": [
    "if not os.path.exists(pitest_figures_out):\n",
    "    os.makedirs(pitest_figures_out)\n",
    "\n",
    "plt.figure(figsize=(10, 6))\n",
    "plt.boxplot([\n",
    "    df_pitest[(df_pitest['session'] == 1)][col],\n",
    "    df_pitest[(df_pitest['session'] == 2)][col]\n",
    "], tick_labels=['Session 1', 'Session 2'])\n",
    "\n",
    "plt.title('Score de mutation par session')\n",
    "plt.ylabel('Score de mutation')\n",
    "plt.grid(axis='y', linestyle='--', alpha=0.7)\n",
    "plt.savefig(f\"{pitest_figures_out}/mutation_score_by_session.pdf\")\n",
    "plt.show()"
   ],
   "id": "e5e28a261db8d2e0",
   "outputs": [
    {
     "data": {
      "text/plain": [
       "<Figure size 1000x600 with 1 Axes>"
      ],
      "image/png": "[encoded data removed]"
     },
     "metadata": {},
     "output_type": "display_data"
    }
   ],
   "execution_count": 12
  },
  {
   "metadata": {},
   "cell_type": "markdown",
   "source": "# Meilleur mode",
   "id": "77fb32e372fcebb9"
  },
  {
   "metadata": {
    "ExecuteTime": {
     "end_time": "2025-05-17T15:05:12.547741Z",
     "start_time": "2025-05-17T15:05:12.529884Z"
    }
   },
   "cell_type": "code",
   "source": [
    "from notebooks.analysis import tests\n",
    "\n",
    "alpha = 0.05\n",
    "\n",
    "leaderboard = df_pitest[df_pitest['game_mode'] == 'leaderboard'][col]\n",
    "achievements = df_pitest[df_pitest['game_mode'] == 'achievements'][col]\n",
    "\n",
    "assert len(leaderboard) == len(achievements), f\"Mismatch in sample size for {col}\"\n",
    "\n",
    "# Test de normalité\n",
    "_, p_normal_leaderboard = stats.shapiro(leaderboard)\n",
    "_, p_normal_achievements = stats.shapiro(achievements)\n",
    "\n",
    "# Test variance\n",
    "stat, variance_p_value = stats.levene(leaderboard, achievements)\n",
    "\n",
    "# Choix du test\n",
    "if p_normal_leaderboard > 0.05 and p_normal_achievements > 0.05:\n",
    "    t_stat, p_value = stats.ttest_rel(leaderboard, achievements)\n",
    "    test = \"t-test\"\n",
    "else:\n",
    "    t_stat, p_value = stats.mannwhitneyu(leaderboard, achievements)\n",
    "    test = \"Mann-Whitney U\"\n",
    "\n",
    "a12 = tests.vargha_delaney_a12(leaderboard, achievements)\n",
    "a12_label = tests.a12_label(a12)\n",
    "better_mode = \"equals\" if a12 == 0.5 else \"leaderboard\" if a12 > 0.5 else \"achievements\"\n",
    "\n",
    "print(\"p_normal_leaderboard\", p_normal_leaderboard)\n",
    "print(\"p_normal_achievements\", p_normal_achievements)\n",
    "print(\"variance_p_value\", variance_p_value)\n",
    "\n",
    "data = [\n",
    "    col,\n",
    "    p_normal_leaderboard > 0.05,\n",
    "    p_normal_achievements > 0.05,\n",
    "    variance_p_value > 0.05,\n",
    "    test,\n",
    "    p_value,\n",
    "    p_value < alpha,\n",
    "    a12,\n",
    "    a12_label,\n",
    "    better_mode\n",
    "]\n",
    "\n",
    "best_mode_df = pd.DataFrame([data], columns=[\n",
    "    'metric',\n",
    "    'leaderboard_normal',\n",
    "    'achievements_normal',\n",
    "    'variance_equals',\n",
    "    'test',\n",
    "    'p_value',\n",
    "    'significant',\n",
    "    'vargha_delaney_a12',\n",
    "    'vargha_delaney',\n",
    "    'better_mode',\n",
    "])\n",
    "\n",
    "best_mode_df"
   ],
   "id": "b5fbd1237534dd19",
   "outputs": [
    {
     "name": "stdout",
     "output_type": "stream",
     "text": [
      "p_normal_leaderboard 0.12349810521184001\n",
      "p_normal_achievements 0.35170720202579175\n",
      "variance_p_value 0.8536469777782494\n"
     ]
    },
    {
     "data": {
      "text/plain": [
       "              metric  leaderboard_normal  achievements_normal  \\\n",
       "0  mutation_coverage                True                 True   \n",
       "\n",
       "   variance_equals    test   p_value  significant  vargha_delaney_a12  \\\n",
       "0             True  t-test  0.729275        False            0.460938   \n",
       "\n",
       "  vargha_delaney   better_mode  \n",
       "0    Aucun effet  achievements  "
      ],
      "text/html": [
       "<div>\n",
       "<style scoped>\n",
       "    .dataframe tbody tr th:only-of-type {\n",
       "        vertical-align: middle;\n",
       "    }\n",
       "\n",
       "    .dataframe tbody tr th {\n",
       "        vertical-align: top;\n",
       "    }\n",
       "\n",
       "    .dataframe thead th {\n",
       "        text-align: right;\n",
       "    }\n",
       "</style>\n",
       "<table border=\"1\" class=\"dataframe\">\n",
       "  <thead>\n",
       "    <tr style=\"text-align: right;\">\n",
       "      <th></th>\n",
       "      <th>metric</th>\n",
       "      <th>leaderboard_normal</th>\n",
       "      <th>achievements_normal</th>\n",
       "      <th>variance_equals</th>\n",
       "      <th>test</th>\n",
       "      <th>p_value</th>\n",
       "      <th>significant</th>\n",
       "      <th>vargha_delaney_a12</th>\n",
       "      <th>vargha_delaney</th>\n",
       "      <th>better_mode</th>\n",
       "    </tr>\n",
       "  </thead>\n",
       "  <tbody>\n",
       "    <tr>\n",
       "      <th>0</th>\n",
       "      <td>mutation_coverage</td>\n",
       "      <td>True</td>\n",
       "      <td>True</td>\n",
       "      <td>True</td>\n",
       "      <td>t-test</td>\n",
       "      <td>0.729275</td>\n",
       "      <td>False</td>\n",
       "      <td>0.460938</td>\n",
       "      <td>Aucun effet</td>\n",
       "      <td>achievements</td>\n",
       "    </tr>\n",
       "  </tbody>\n",
       "</table>\n",
       "</div>"
      ]
     },
     "execution_count": 40,
     "metadata": {},
     "output_type": "execute_result"
    }
   ],
   "execution_count": 40
  }
 ],
 "metadata": {
  "kernelspec": {
   "display_name": "Python 3",
   "language": "python",
   "name": "python3"
  },
  "language_info": {
   "codemirror_mode": {
    "name": "ipython",
    "version": 2
   },
   "file_extension": ".py",
   "mimetype": "text/x-python",
   "name": "python",
   "nbconvert_exporter": "python",
   "pygments_lexer": "ipython2",
   "version": "2.7.6"
  }
 },
 "nbformat": 4,
 "nbformat_minor": 5
}
