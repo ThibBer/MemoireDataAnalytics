{
 "cells": [
  {
   "cell_type": "code",
   "id": "initial_id",
   "metadata": {
    "collapsed": true,
    "ExecuteTime": {
     "end_time": "2025-05-16T09:13:36.570626Z",
     "start_time": "2025-05-16T09:13:36.564835Z"
    }
   },
   "source": [
    "import pandas as pd\n",
    "import os\n",
    "import matplotlib.pyplot as plt\n",
    "from scipy import stats\n",
    "\n",
    "from notebooks.analysis import tests\n",
    "\n",
    "col = 'mutation_coverage'\n",
    "\n",
    "pitest_figures_out = '../../generated/figures/pitest'\n",
    "pitest_data_path = '../../generated/code-analysis/pitest.csv'\n",
    "\n",
    "if not os.path.exists(pitest_data_path):\n",
    "    raise FileNotFoundError(f\"Le fichier {pitest_data_path} n'existe pas. Exécutez d'abord le notebook '../arrange data/Pitest.ipynb' avant.\")\n",
    "\n",
    "df_pitest = pd.read_csv(pitest_data_path)"
   ],
   "outputs": [],
   "execution_count": 8
  },
  {
   "metadata": {},
   "cell_type": "markdown",
   "source": "# Effet d'ordre",
   "id": "ca9a36ae79e61a67"
  },
  {
   "metadata": {
    "ExecuteTime": {
     "end_time": "2025-05-16T09:13:36.756719Z",
     "start_time": "2025-05-16T09:13:36.732737Z"
    }
   },
   "cell_type": "code",
   "source": [
    "results = []\n",
    "alpha = 0.05\n",
    "\n",
    "\n",
    "pivot = df_pitest.pivot(index='user', columns='game_mode', values=col)\n",
    "pivot = pivot.dropna()\n",
    "\n",
    "groups = df_pitest.drop_duplicates('user')[['user', 'group']]\n",
    "pivot = pivot.merge(groups.set_index('user'), left_index=True, right_index=True)\n",
    "\n",
    "pivot['diff'] = pivot.apply(\n",
    "    lambda row: row['leaderboard'] - row['achievements'] if row['group'] == 'A'\n",
    "                else row['achievements'] - row['leaderboard'],\n",
    "    axis=1\n",
    ")\n",
    "\n",
    "group_a = pivot[pivot['group'] == 'A']['diff']\n",
    "group_b = pivot[pivot['group'] == 'B']['diff']\n",
    "\n",
    "assert len(group_a) == len(group_b), f\"Mismatch in sample size for {col}\"\n",
    "\n",
    "# Test de normalité\n",
    "_, p_normal_diff_a = stats.shapiro(group_a)\n",
    "_, p_normal_diff_b = stats.shapiro(group_b)\n",
    "\n",
    "# Test variance\n",
    "stat, variance_p_value = stats.levene(group_a, group_b)\n",
    "\n",
    "# Choix du test\n",
    "if p_normal_diff_a > 0.05 and p_normal_diff_b > 0.05:\n",
    "    t_stat, p_value = stats.ttest_ind(group_a, group_b, equal_var=True)\n",
    "    test = \"t-test\"\n",
    "else:\n",
    "    t_stat, p_value = stats.mannwhitneyu(group_a, group_b)\n",
    "    test = \"Wilcoxon\"\n",
    "\n",
    "a12 = tests.vargha_delaney_a12(group_a, group_b)\n",
    "\n",
    "results.append([\n",
    "    col,\n",
    "    p_normal_diff_a > 0.05,\n",
    "    p_normal_diff_b > 0.05,\n",
    "    variance_p_value > 0.05,\n",
    "    test,\n",
    "    p_value,\n",
    "    p_value < alpha,\n",
    "    a12,\n",
    "    tests.a12_label(a12)\n",
    "])\n",
    "\n",
    "order_effect_df = pd.DataFrame(results, columns=[\n",
    "    'metric',\n",
    "    'a_normal',\n",
    "    'b_normal',\n",
    "    'variance_equals',\n",
    "    'test',\n",
    "    'p_value',\n",
    "    'significant',\n",
    "    'vargha_delaney_a12',\n",
    "    'vargha_delaney'\n",
    "])\n",
    "\n",
    "order_effect_df"
   ],
   "id": "86afe665b855a957",
   "outputs": [
    {
     "data": {
      "text/plain": [
       "              metric  a_normal  b_normal  variance_equals    test   p_value  \\\n",
       "0  mutation_coverage      True      True             True  t-test  0.738411   \n",
       "\n",
       "   significant  vargha_delaney_a12 vargha_delaney  \n",
       "0        False            0.382812    Effet moyen  "
      ],
      "text/html": [
       "<div>\n",
       "<style scoped>\n",
       "    .dataframe tbody tr th:only-of-type {\n",
       "        vertical-align: middle;\n",
       "    }\n",
       "\n",
       "    .dataframe tbody tr th {\n",
       "        vertical-align: top;\n",
       "    }\n",
       "\n",
       "    .dataframe thead th {\n",
       "        text-align: right;\n",
       "    }\n",
       "</style>\n",
       "<table border=\"1\" class=\"dataframe\">\n",
       "  <thead>\n",
       "    <tr style=\"text-align: right;\">\n",
       "      <th></th>\n",
       "      <th>metric</th>\n",
       "      <th>a_normal</th>\n",
       "      <th>b_normal</th>\n",
       "      <th>variance_equals</th>\n",
       "      <th>test</th>\n",
       "      <th>p_value</th>\n",
       "      <th>significant</th>\n",
       "      <th>vargha_delaney_a12</th>\n",
       "      <th>vargha_delaney</th>\n",
       "    </tr>\n",
       "  </thead>\n",
       "  <tbody>\n",
       "    <tr>\n",
       "      <th>0</th>\n",
       "      <td>mutation_coverage</td>\n",
       "      <td>True</td>\n",
       "      <td>True</td>\n",
       "      <td>True</td>\n",
       "      <td>t-test</td>\n",
       "      <td>0.738411</td>\n",
       "      <td>False</td>\n",
       "      <td>0.382812</td>\n",
       "      <td>Effet moyen</td>\n",
       "    </tr>\n",
       "  </tbody>\n",
       "</table>\n",
       "</div>"
      ]
     },
     "execution_count": 9,
     "metadata": {},
     "output_type": "execute_result"
    }
   ],
   "execution_count": 9
  },
  {
   "metadata": {
    "ExecuteTime": {
     "end_time": "2025-05-16T09:13:36.928070Z",
     "start_time": "2025-05-16T09:13:36.923741Z"
    }
   },
   "cell_type": "code",
   "source": [
    "order_effect_df_count = len(order_effect_df[order_effect_df['significant'] == True])\n",
    "if order_effect_df_count > 0:\n",
    "    print(f\"Il y a {order_effect_df_count} un effet d'ordre.\")\n",
    "else:\n",
    "    print(\"Aucun effet d'ordre.\")"
   ],
   "id": "cd916ac48cedaa91",
   "outputs": [
    {
     "name": "stdout",
     "output_type": "stream",
     "text": [
      "Aucun effet d'ordre.\n"
     ]
    }
   ],
   "execution_count": 10
  },
  {
   "metadata": {},
   "cell_type": "markdown",
   "source": "# Effet de session",
   "id": "39f7f1c95a471510"
  },
  {
   "metadata": {
    "ExecuteTime": {
     "end_time": "2025-05-16T09:13:37.089139Z",
     "start_time": "2025-05-16T09:13:37.069493Z"
    }
   },
   "cell_type": "code",
   "source": [
    "from notebooks.analysis import tests\n",
    "\n",
    "results = []\n",
    "alpha = 0.05\n",
    "\n",
    "df_rounds = df_pitest.copy()\n",
    "df_rounds['round'] = df_rounds.groupby('user').cumcount() + 1\n",
    "\n",
    "# Comparer les performances au round 1 vs round 2\n",
    "session1 = df_rounds[df_rounds['session'] == 1][col]\n",
    "session2 = df_rounds[df_rounds['session'] == 2][col]\n",
    "\n",
    "assert len(session1) == len(session2), f\"Mismatch in sample size for {col}\"\n",
    "\n",
    "# Normalité ?\n",
    "_, p_shapiro_1 = stats.shapiro(session1)\n",
    "_, p_shapiro_2 = stats.shapiro(session2)\n",
    "\n",
    "# Test variance\n",
    "stat, variance_p_value = stats.levene(session1, session2)\n",
    "\n",
    "if p_shapiro_1 > 0.05 and p_shapiro_2 > 0.05:\n",
    "    t_stat, p_value = stats.ttest_rel(session1, session2)\n",
    "    test = \"t-test\"\n",
    "else:\n",
    "    t_stat, p_value = stats.wilcoxon(session1, session2)\n",
    "    test = \"Wilcoxon\"\n",
    "\n",
    "\n",
    "a12 = tests.vargha_delaney_a12(session1, session2)\n",
    "\n",
    "results.append([\n",
    "    col,\n",
    "    p_shapiro_1 > 0.05,\n",
    "    p_shapiro_2 > 0.05,\n",
    "    variance_p_value > 0.05,\n",
    "    test,\n",
    "    p_value,\n",
    "    t_stat,\n",
    "    p_value < alpha,\n",
    "    a12,\n",
    "    tests.a12_label(a12)\n",
    "])\n",
    "\n",
    "session_effect_df = pd.DataFrame(results, columns=[\n",
    "    'metric',\n",
    "    'a_normal',\n",
    "    'b_normal',\n",
    "    'variance_equals',\n",
    "    'test',\n",
    "    'p_value',\n",
    "    't_stat',\n",
    "    'significant',\n",
    "    'vargha_delaney_a12',\n",
    "    'vargha_delaney'\n",
    "])\n",
    "\n",
    "session_effect_df"
   ],
   "id": "81bc1341afd21963",
   "outputs": [
    {
     "data": {
      "text/plain": [
       "              metric  a_normal  b_normal  variance_equals    test  p_value  \\\n",
       "0  mutation_coverage      True      True             True  t-test      1.0   \n",
       "\n",
       "         t_stat  significant  vargha_delaney_a12 vargha_delaney  \n",
       "0  1.615216e-16        False            0.474609    Aucun effet  "
      ],
      "text/html": [
       "<div>\n",
       "<style scoped>\n",
       "    .dataframe tbody tr th:only-of-type {\n",
       "        vertical-align: middle;\n",
       "    }\n",
       "\n",
       "    .dataframe tbody tr th {\n",
       "        vertical-align: top;\n",
       "    }\n",
       "\n",
       "    .dataframe thead th {\n",
       "        text-align: right;\n",
       "    }\n",
       "</style>\n",
       "<table border=\"1\" class=\"dataframe\">\n",
       "  <thead>\n",
       "    <tr style=\"text-align: right;\">\n",
       "      <th></th>\n",
       "      <th>metric</th>\n",
       "      <th>a_normal</th>\n",
       "      <th>b_normal</th>\n",
       "      <th>variance_equals</th>\n",
       "      <th>test</th>\n",
       "      <th>p_value</th>\n",
       "      <th>t_stat</th>\n",
       "      <th>significant</th>\n",
       "      <th>vargha_delaney_a12</th>\n",
       "      <th>vargha_delaney</th>\n",
       "    </tr>\n",
       "  </thead>\n",
       "  <tbody>\n",
       "    <tr>\n",
       "      <th>0</th>\n",
       "      <td>mutation_coverage</td>\n",
       "      <td>True</td>\n",
       "      <td>True</td>\n",
       "      <td>True</td>\n",
       "      <td>t-test</td>\n",
       "      <td>1.0</td>\n",
       "      <td>1.615216e-16</td>\n",
       "      <td>False</td>\n",
       "      <td>0.474609</td>\n",
       "      <td>Aucun effet</td>\n",
       "    </tr>\n",
       "  </tbody>\n",
       "</table>\n",
       "</div>"
      ]
     },
     "execution_count": 11,
     "metadata": {},
     "output_type": "execute_result"
    }
   ],
   "execution_count": 11
  },
  {
   "metadata": {
    "ExecuteTime": {
     "end_time": "2025-05-16T09:13:37.320903Z",
     "start_time": "2025-05-16T09:13:37.316197Z"
    }
   },
   "cell_type": "code",
   "source": [
    "session_effect_df_count = len(session_effect_df[session_effect_df['significant'] == True])\n",
    "if session_effect_df_count > 0:\n",
    "    print(f\"Il y a {session_effect_df_count} un effet d'ordre.\")\n",
    "else:\n",
    "    print(\"Aucun effet d'ordre.\")"
   ],
   "id": "dad958b3475841a6",
   "outputs": [
    {
     "name": "stdout",
     "output_type": "stream",
     "text": [
      "Aucun effet d'ordre.\n"
     ]
    }
   ],
   "execution_count": 12
  },
  {
   "metadata": {},
   "cell_type": "markdown",
   "source": "# Boxplot par mode de jeu",
   "id": "902b3d70d47739e1"
  },
  {
   "metadata": {
    "ExecuteTime": {
     "end_time": "2025-05-16T09:13:37.601033Z",
     "start_time": "2025-05-16T09:13:37.430100Z"
    }
   },
   "cell_type": "code",
   "source": [
    "if not os.path.exists(pitest_figures_out):\n",
    "    os.makedirs(pitest_figures_out)\n",
    "\n",
    "plt.figure(figsize=(10, 6))\n",
    "plt.boxplot([\n",
    "    df_pitest[(df_pitest['game_mode'] == 'achievements')][col],\n",
    "    df_pitest[(df_pitest['game_mode'] == 'leaderboard')][col]\n",
    "], tick_labels=['Achievements', 'Leaderboard'])\n",
    "\n",
    "plt.title('Score de mutation par mode de jeu')\n",
    "plt.ylabel('Score de mutation')\n",
    "plt.grid(axis='y', linestyle='--', alpha=0.7)\n",
    "plt.savefig(f\"{pitest_figures_out}/mutation_score_by_game_mode.pdf\")\n",
    "plt.show()"
   ],
   "id": "563e43c094438773",
   "outputs": [
    {
     "data": {
      "text/plain": [
       "<Figure size 1000x600 with 1 Axes>"
      ],
      "image/png": "[encoded data removed]"
     },
     "metadata": {},
     "output_type": "display_data"
    }
   ],
   "execution_count": 13
  },
  {
   "metadata": {},
   "cell_type": "markdown",
   "source": "# Meilleur mode",
   "id": "77fb32e372fcebb9"
  },
  {
   "metadata": {
    "ExecuteTime": {
     "end_time": "2025-05-16T09:13:37.740257Z",
     "start_time": "2025-05-16T09:13:37.719934Z"
    }
   },
   "cell_type": "code",
   "source": [
    "from notebooks.analysis import tests\n",
    "\n",
    "alpha = 0.05\n",
    "\n",
    "leaderboard = df_pitest[df_pitest['game_mode'] == 'leaderboard'][col]\n",
    "achievements = df_pitest[df_pitest['game_mode'] == 'achievements'][col]\n",
    "\n",
    "assert len(leaderboard) == len(achievements), f\"Mismatch in sample size for {col}\"\n",
    "\n",
    "# Test de normalité\n",
    "_, p_normal_diff_leaderboard = stats.shapiro(leaderboard)\n",
    "_, p_normal_diff_achievements = stats.shapiro(achievements)\n",
    "\n",
    "# Test variance\n",
    "stat, variance_p_value = stats.levene(leaderboard, achievements)\n",
    "\n",
    "# Choix du test\n",
    "if p_normal_diff_leaderboard > 0.05 and p_normal_diff_achievements > 0.05:\n",
    "    t_stat, p_value = stats.ttest_ind(leaderboard, achievements, equal_var=True)\n",
    "    test = \"t-test\"\n",
    "else:\n",
    "    t_stat, p_value = stats.mannwhitneyu(leaderboard, achievements)\n",
    "    test = \"Mann-Whitney U\"\n",
    "\n",
    "a12 = tests.vargha_delaney_a12(leaderboard, achievements)\n",
    "a12_label = tests.a12_label(a12)\n",
    "better_mode = \"equals\" if a12 == 0.5 else \"leaderboard\" if a12 > 0.5 else \"achievements\"\n",
    "\n",
    "data = [\n",
    "    col,\n",
    "    p_normal_diff_leaderboard > 0.05,\n",
    "    p_normal_diff_achievements > 0.05,\n",
    "    variance_p_value > 0.05,\n",
    "    test,\n",
    "    p_value,\n",
    "    p_value < alpha,\n",
    "    a12,\n",
    "    a12_label,\n",
    "    better_mode\n",
    "]\n",
    "\n",
    "best_mode_df = pd.DataFrame([data], columns=[\n",
    "    'metric',\n",
    "    'leaderboard_normal',\n",
    "    'achievements_normal',\n",
    "    'variance_equals',\n",
    "    'test',\n",
    "    'p_value',\n",
    "    'significant',\n",
    "    'vargha_delaney_a12',\n",
    "    'vargha_delaney',\n",
    "    'better_mode',\n",
    "])\n",
    "\n",
    "best_mode_df"
   ],
   "id": "b5fbd1237534dd19",
   "outputs": [
    {
     "data": {
      "text/plain": [
       "              metric  leaderboard_normal  achievements_normal  \\\n",
       "0  mutation_coverage                True                 True   \n",
       "\n",
       "   variance_equals    test   p_value  significant  vargha_delaney_a12  \\\n",
       "0             True  t-test  0.768984        False            0.460938   \n",
       "\n",
       "  vargha_delaney   better_mode  \n",
       "0    Aucun effet  achievements  "
      ],
      "text/html": [
       "<div>\n",
       "<style scoped>\n",
       "    .dataframe tbody tr th:only-of-type {\n",
       "        vertical-align: middle;\n",
       "    }\n",
       "\n",
       "    .dataframe tbody tr th {\n",
       "        vertical-align: top;\n",
       "    }\n",
       "\n",
       "    .dataframe thead th {\n",
       "        text-align: right;\n",
       "    }\n",
       "</style>\n",
       "<table border=\"1\" class=\"dataframe\">\n",
       "  <thead>\n",
       "    <tr style=\"text-align: right;\">\n",
       "      <th></th>\n",
       "      <th>metric</th>\n",
       "      <th>leaderboard_normal</th>\n",
       "      <th>achievements_normal</th>\n",
       "      <th>variance_equals</th>\n",
       "      <th>test</th>\n",
       "      <th>p_value</th>\n",
       "      <th>significant</th>\n",
       "      <th>vargha_delaney_a12</th>\n",
       "      <th>vargha_delaney</th>\n",
       "      <th>better_mode</th>\n",
       "    </tr>\n",
       "  </thead>\n",
       "  <tbody>\n",
       "    <tr>\n",
       "      <th>0</th>\n",
       "      <td>mutation_coverage</td>\n",
       "      <td>True</td>\n",
       "      <td>True</td>\n",
       "      <td>True</td>\n",
       "      <td>t-test</td>\n",
       "      <td>0.768984</td>\n",
       "      <td>False</td>\n",
       "      <td>0.460938</td>\n",
       "      <td>Aucun effet</td>\n",
       "      <td>achievements</td>\n",
       "    </tr>\n",
       "  </tbody>\n",
       "</table>\n",
       "</div>"
      ]
     },
     "execution_count": 14,
     "metadata": {},
     "output_type": "execute_result"
    }
   ],
   "execution_count": 14
  }
 ],
 "metadata": {
  "kernelspec": {
   "display_name": "Python 3",
   "language": "python",
   "name": "python3"
  },
  "language_info": {
   "codemirror_mode": {
    "name": "ipython",
    "version": 2
   },
   "file_extension": ".py",
   "mimetype": "text/x-python",
   "name": "python",
   "nbconvert_exporter": "python",
   "pygments_lexer": "ipython2",
   "version": "2.7.6"
  }
 },
 "nbformat": 4,
 "nbformat_minor": 5
}
