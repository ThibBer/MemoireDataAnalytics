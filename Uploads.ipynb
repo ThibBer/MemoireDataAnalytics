{
 "cells": [
  {
   "cell_type": "code",
   "id": "initial_id",
   "metadata": {
    "collapsed": true,
    "ExecuteTime": {
     "end_time": "2025-04-20T15:10:16.605197Z",
     "start_time": "2025-04-20T15:10:16.598787Z"
    }
   },
   "source": [
    "import os\n",
    "\n",
    "uploads_path = \"./data/uploads\"\n",
    "directories = os.listdir(uploads_path)\n",
    "\n",
    "\n",
    "for directory in directories:\n",
    "    child = os.listdir(uploads_path + \"/\" + directory)\n",
    "    if len(child) != 2:\n",
    "        print(f\"{directory} has {len(child)} directories instead of 2\")\n",
    "        for dir in child:\n",
    "            print(f\"\\t{dir}\")\n",
    "        print(\"\")"
   ],
   "outputs": [
    {
     "name": "stdout",
     "output_type": "stream",
     "text": [
      "11555248-3f01-4d1c-9a71-ef7caf9150fa has 1 directories instead of 2\n",
      "\t2025-04-17T08-05-29.421Z\n",
      "\n",
      "1d20c70c-aa71-49ff-abf5-6013870a28f8 has 3 directories instead of 2\n",
      "\t2025-04-17T07-46-46.781Z\n",
      "\t2025-04-17T07-46-49.089Z\n",
      "\t2025-04-17T08-06-49.533Z\n",
      "\n",
      "3e58c347-cdf0-4139-93e0-1adf144753c4 has 4 directories instead of 2\n",
      "\t2025-04-17T07-30-22.616Z\n",
      "\t2025-04-17T07-42-18.812Z\n",
      "\t2025-04-17T07-51-07.217Z\n",
      "\t2025-04-17T08-06-56.837Z\n",
      "\n",
      "60716858-6fcb-4953-88e3-12a51b3c7c47 has 3 directories instead of 2\n",
      "\t2025-04-17T07-24-19.288Z\n",
      "\t2025-04-17T07-24-21.034Z\n",
      "\t2025-04-17T08-05-22.289Z\n",
      "\n",
      "674eeeb6-2534-419d-8965-63e4400f60c4 has 4 directories instead of 2\n",
      "\t2025-04-17T07-26-37.267Z\n",
      "\t2025-04-17T07-26-41.155Z\n",
      "\t2025-04-17T07-27-59.372Z\n",
      "\t2025-04-17T08-06-41.999Z\n",
      "\n",
      "9af94b6b-259c-4799-8c79-5960311627bf has 4 directories instead of 2\n",
      "\t2025-04-17T07-26-52.491Z\n",
      "\t2025-04-17T08-05-27.514Z\n",
      "\t2025-04-17T08-05-28.156Z\n",
      "\t2025-04-17T08-05-30.026Z\n",
      "\n",
      "a7c1124d-d4fc-4fc7-bb6f-b73e2f1b7fdd has 3 directories instead of 2\n",
      "\t2025-04-17T07-30-06.028Z\n",
      "\t2025-04-17T08-07-43.490Z\n",
      "\t2025-04-17T08-07-43.975Z\n",
      "\n",
      "a980dad5-6719-44ac-a40e-4c0b35663e68 has 3 directories instead of 2\n",
      "\t2025-04-17T07-25-08.437Z\n",
      "\t2025-04-17T07-25-10.346Z\n",
      "\t2025-04-17T07-27-08.814Z\n",
      "\n",
      "d5082901-d846-4794-82af-2c7db8d50788 has 3 directories instead of 2\n",
      "\t2025-04-17T07-24-36.735Z\n",
      "\t2025-04-17T07-25-43.048Z\n",
      "\t2025-04-17T08-05-10.780Z\n",
      "\n",
      "f08453ce-2b6e-40e4-a0b4-0c37218608fa has 3 directories instead of 2\n",
      "\t2025-04-17T07-26-22.593Z\n",
      "\t2025-04-17T07-27-40.096Z\n",
      "\t2025-04-17T08-07-41.079Z\n",
      "\n"
     ]
    }
   ],
   "execution_count": 5
  }
 ],
 "metadata": {
  "kernelspec": {
   "display_name": "Python 3",
   "language": "python",
   "name": "python3"
  },
  "language_info": {
   "codemirror_mode": {
    "name": "ipython",
    "version": 2
   },
   "file_extension": ".py",
   "mimetype": "text/x-python",
   "name": "python",
   "nbconvert_exporter": "python",
   "pygments_lexer": "ipython2",
   "version": "2.7.6"
  }
 },
 "nbformat": 4,
 "nbformat_minor": 5
}
